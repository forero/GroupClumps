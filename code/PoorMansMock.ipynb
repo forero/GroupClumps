{
 "metadata": {
  "name": "PoorMansMock"
 },
 "nbformat": 3,
 "nbformat_minor": 0,
 "worksheets": [
  {
   "cells": [
    {
     "cell_type": "code",
     "collapsed": false,
     "input": [
      "from subprocess import call"
     ],
     "language": "python",
     "metadata": {},
     "outputs": [],
     "prompt_number": 58
    },
    {
     "cell_type": "code",
     "collapsed": false,
     "input": [
      "def data_base_query(query, outputfile, password, username=\"forero\"):\n",
      "    website = \"http://wget.multidark.org/MyDB?action=doQuery&SQL=\"\n",
      "    wget_options=\"--auth-no-challenge --content-disposition --cookies=on --keep-session-cookies --save-cookies=cookie.txt --load-cookies=cookie.txt\" \n",
      "    wget_options=wget_options+\" -O \"+outputfile +\" \"\n",
      "    wget_command=\"wget --http-user=\"+username+\" --http-passwd=\"+password+\" \"+wget_options\n",
      "    command = wget_command + \"\\\"\"+ website + query+\"\\\"\"\n",
      "    print command\n",
      "    retcode = call(command,shell=True)"
     ],
     "language": "python",
     "metadata": {},
     "outputs": [],
     "prompt_number": 59
    },
    {
     "cell_type": "code",
     "collapsed": false,
     "input": [
      "#load the list of snapshots\n",
      "sim_list = loadtxt('../data/snap_z_MDR1.dat', skiprows=11, delimiter=\",\", comments=\"#\")\n",
      "snap_ID  = sim_list[:,0]\n",
      "snap_z = sim_list[:,1]\n",
      "\n",
      "#load the list of observational data\n",
      "obs_data = loadtxt('../data/obs_redshifts.dat', dtype={'names':('Name','Z','Secure',),'formats': ('S10', 'f4', 'i4')})\n",
      "z_obs = []\n",
      "for item in obs_data:\n",
      "    z_obs.append(item[1])\n",
      "z_obs = array(z_obs)\n",
      "\n",
      "#bin the data\n",
      "h, z_edges = histogram(z_obs, bins=10)\n",
      "plot(z_edges[0:-1], h)\n",
      "\n",
      "#bins to query:\n",
      "z_to_get = z_edges[0:-1]"
     ],
     "language": "python",
     "metadata": {},
     "outputs": [
      {
       "output_type": "display_data",
       "png": "[encoded data removed]",
       "text": [
        "<matplotlib.figure.Figure at 0x37723250>"
       ]
      }
     ],
     "prompt_number": 60
    },
    {
     "cell_type": "code",
     "collapsed": false,
     "input": [
      "snap_to_get = []\n",
      "for z_item in z_to_get:\n",
      "    min_id = argmin(abs(snap_z - z_item))\n",
      "    snap_to_get.append(snap_ID[min_id])\n",
      "snap_to_get = int_(array(snap_to_get))\n",
      "print snap_to_get\n"
     ],
     "language": "python",
     "metadata": {},
     "outputs": [
      {
       "output_type": "stream",
       "stream": "stdout",
       "text": [
        "[82 76 70 66 62 60 56 54 52 50]\n"
       ]
      }
     ],
     "prompt_number": 61
    },
    {
     "cell_type": "code",
     "collapsed": false,
     "input": [
      "get_data = False\n",
      "if get_data:\n",
      "    min_vel = 300\n",
      "    max_vel = 1000\n",
      "    for id_to_get in snap_to_get:\n",
      "        query = \"select * from MDR1..BDMW where snapnum = %d and Vrms between %f and %f\"%(id_to_get, min_vel, max_vel)\n",
      "        outputfile = \"../data/MDR1_BDMW_snap_%d_vel_%.1f_%.1f.csv\"%(id_to_get, min_vel, max_vel)\n",
      "        data_base_query(query, outputfile, password)"
     ],
     "language": "python",
     "metadata": {},
     "outputs": [],
     "prompt_number": 62
    },
    {
     "cell_type": "code",
     "collapsed": false,
     "input": [
      "def get_mean_mvir_conc(snap_id):\n",
      "    z = snap_z[where(snap_ID==snap_id)]\n",
      "    z = z[0]\n",
      "    print z \n",
      "    min_vel = 300.0\n",
      "    max_vel = 1000.0\n",
      "    filename = \"../data/MDR1_BDMW_snap_%d_vel_%.1f_%.1f.csv\"%(snap_id, min_vel, max_vel)\n",
      "    snap_data = loadtxt(filename,delimiter=\",\", skiprows=37)\n",
      "  \n",
      "    #file to write the output\n",
      "    output_filename = \"../data/Mvir_conc_MDR1_BDMW_snap_%d_z_%.2f_vel_%.1f_%.1f.dat\"%(snap_id, z, min_vel, max_vel)\n",
      "    fileout = open(output_filename, 'w')\n",
      "    \n",
      "    #get isolated halos only\n",
      "    isolated = where(snap_data[:,3]==-1)\n",
      "    snap_data = snap_data[isolated[0],:]\n",
      "    \n",
      "    #get the virial mass\n",
      "    virial_mass = log10(snap_data[:,11])\n",
      "    concentration = snap_data[:,16]\n",
      "    \n",
      "    #creat a range of log_mass spaced by 0.1 dex\n",
      "    log_mass_bins = arange(12.5,amax(virial_mass),0.1)\n",
      "    \n",
      "    fileout.write('#log_min_mass log_max_maxx mean_conc std_conc')\n",
      "    for i in range(size(log_mass_bins)-1):\n",
      "        min_mass = log_mass_bins[i]\n",
      "        max_mass = log_mass_bins[i+1]\n",
      "        in_range = where((virial_mass > min_mass) & (virial_mass<max_mass))\n",
      "        tmp_concentration = concentration[in_range]\n",
      "        fileout.write(\"%.3f %.3f %.3f %.3f\\n\"%(min_mass, max_mass, mean(tmp_concentration), std(tmp_concentration)))"
     ],
     "language": "python",
     "metadata": {},
     "outputs": [],
     "prompt_number": 75
    },
    {
     "cell_type": "code",
     "collapsed": false,
     "input": [
      "for snap_id in snap_to_get:\n",
      "    get_mean_mvir_conc(snap_id)"
     ],
     "language": "python",
     "metadata": {},
     "outputs": [
      {
       "output_type": "stream",
       "stream": "stdout",
       "text": [
        "0.05\n",
        "0.16"
       ]
      },
      {
       "output_type": "stream",
       "stream": "stdout",
       "text": [
        "\n",
        "0.29"
       ]
      },
      {
       "output_type": "stream",
       "stream": "stdout",
       "text": [
        "\n",
        "0.4"
       ]
      },
      {
       "output_type": "stream",
       "stream": "stdout",
       "text": [
        "\n",
        "0.53"
       ]
      },
      {
       "output_type": "stream",
       "stream": "stdout",
       "text": [
        "\n",
        "0.61"
       ]
      },
      {
       "output_type": "stream",
       "stream": "stdout",
       "text": [
        "\n",
        "0.78"
       ]
      },
      {
       "output_type": "stream",
       "stream": "stdout",
       "text": [
        "\n",
        "0.89"
       ]
      },
      {
       "output_type": "stream",
       "stream": "stdout",
       "text": [
        "\n",
        "1.0"
       ]
      },
      {
       "output_type": "stream",
       "stream": "stdout",
       "text": [
        "\n",
        "1.13"
       ]
      },
      {
       "output_type": "stream",
       "stream": "stdout",
       "text": [
        "\n"
       ]
      }
     ],
     "prompt_number": 77
    },
    {
     "cell_type": "code",
     "collapsed": false,
     "input": [],
     "language": "python",
     "metadata": {},
     "outputs": []
    }
   ],
   "metadata": {}
  }
 ]
}